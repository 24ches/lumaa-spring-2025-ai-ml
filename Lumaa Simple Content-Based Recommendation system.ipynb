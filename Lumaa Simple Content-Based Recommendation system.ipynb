{
 "cells": [
  {
   "cell_type": "code",
   "execution_count": 54,
   "id": "9361a2a6-233f-4f50-ab50-1ffbd2fb82fd",
   "metadata": {},
   "outputs": [
    {
     "name": "stdin",
     "output_type": "stream",
     "text": [
      "Describe the kind of movie you're looking for:  i love movies about space\n"
     ]
    },
    {
     "name": "stdout",
     "output_type": "stream",
     "text": [
      "\n",
      "🎬 Recommended Movies Based on Your Description:\n",
      "\n",
      "Aliens\n",
      "   Description: Fifty-seven years after surviving an apocalyptic attack aboard her space vessel by merciless space creatures, Officer Ripley awakens from hyper-sleep and tries to warn anyone who will listen about the predators.\n",
      "   Genre: ['Action', 'Adventure', 'Sci-Fi']\n",
      "\n",
      "Interstellar\n",
      "   Description: A team of explorers travel through a wormhole in space in an attempt to ensure humanity's survival.\n",
      "   Genre: ['Adventure', 'Drama', 'Sci-Fi']\n",
      "\n",
      "WALL·E\n",
      "   Description: In the distant future, a small waste-collecting robot inadvertently embarks on a space journey that will ultimately decide the fate of mankind.\n",
      "   Genre: ['Animation', 'Adventure', 'Family']\n",
      "\n"
     ]
    }
   ],
   "source": [
    "# Import all the packages\n",
    "import pandas as pd\n",
    "from sklearn.feature_extraction.text import TfidfVectorizer\n",
    "from sklearn.metrics.pairwise import cosine_similarity\n",
    "\n",
    "# Load the dataset\n",
    "movies = pd.read_csv('/Users/chesterkayonga/Downloads/TOP 100 IMDB MOVIES.csv')\n",
    "\n",
    "# Vectorize movie descriptions and genres separately\n",
    "tfidf_desc = TfidfVectorizer(stop_words='english')\n",
    "tfidf_matrix_desc = tfidf_desc.fit_transform(movies['description'].fillna(''))\n",
    "\n",
    "tfidf_genre = TfidfVectorizer(stop_words='english')\n",
    "tfidf_matrix_genre = tfidf_genre.fit_transform(movies['genre'].fillna(''))\n",
    "\n",
    "# Get user input\n",
    "user_query = input(\"Describe the kind of movie you're looking for: \")\n",
    "\n",
    "# Compute similarity for description and genre\n",
    "query_vector_desc = tfidf_desc.transform([user_query])\n",
    "query_vector_genre = tfidf_genre.transform([user_query])\n",
    "\n",
    "similarity_scores_desc = cosine_similarity(query_vector_desc, tfidf_matrix_desc).flatten()\n",
    "similarity_scores_genre = cosine_similarity(query_vector_genre, tfidf_matrix_genre).flatten()\n",
    "\n",
    "# Combine similarity scores with weighted importance\n",
    "combined_scores = (0.7 * similarity_scores_desc) + (0.3 * similarity_scores_genre)\n",
    "\n",
    "# Get top 3 matches\n",
    "top_indices = combined_scores.argsort()[-3:][::-1]\n",
    "top_movies = movies.iloc[top_indices][['title', 'description', 'genre']]\n",
    "\n",
    "# Print results\n",
    "print(\"\\n🎬 Recommended Movies Based on Your Description:\\n\")\n",
    "for _, row in top_movies.iterrows():\n",
    "    print(f\"{row['title']}\\n   Description: {row['description']}\\n   Genre: {row['genre']}\\n\")\n",
    "\n"
   ]
  },
  {
   "cell_type": "code",
   "execution_count": null,
   "id": "87b5ea36-deac-4c84-9740-4fe482eded21",
   "metadata": {},
   "outputs": [],
   "source": []
  }
 ],
 "metadata": {
  "kernelspec": {
   "display_name": "Python 3 (ipykernel)",
   "language": "python",
   "name": "python3"
  },
  "language_info": {
   "codemirror_mode": {
    "name": "ipython",
    "version": 3
   },
   "file_extension": ".py",
   "mimetype": "text/x-python",
   "name": "python",
   "nbconvert_exporter": "python",
   "pygments_lexer": "ipython3",
   "version": "3.9.6"
  }
 },
 "nbformat": 4,
 "nbformat_minor": 5
}
